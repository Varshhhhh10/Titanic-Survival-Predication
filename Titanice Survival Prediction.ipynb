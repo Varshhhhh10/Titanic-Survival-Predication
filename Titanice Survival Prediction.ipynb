{
 "cells": [
  {
   "cell_type": "code",
   "execution_count": 9,
   "id": "d9aef7ad-3da8-4997-b19e-6c310a032fcd",
   "metadata": {},
   "outputs": [
    {
     "name": "stdout",
     "output_type": "stream",
     "text": [
      "\n",
      "--- Titanic Survival Predictor ---\n"
     ]
    },
    {
     "name": "stdin",
     "output_type": "stream",
     "text": [
      "Enter Passenger Class (1 = 1st, 2 = 2nd, 3 = 3rd):  3\n",
      "Enter Sex (male/female):  female\n",
      "Enter Age:  22\n",
      "Enter Fare Paid:  7.25\n"
     ]
    },
    {
     "name": "stdout",
     "output_type": "stream",
     "text": [
      " The passenger would have SURVIVED!\n"
     ]
    }
   ],
   "source": [
    "import pandas as pd\n",
    "from sklearn.model_selection import train_test_split\n",
    "from sklearn.linear_model import LogisticRegression\n",
    "\n",
    "# Load and preprocess data\n",
    "df = pd.read_csv(\"titanicproj_train.csv\")\n",
    "df = df[['Survived', 'Pclass', 'Sex', 'Age', 'Fare']]\n",
    "df['Sex'] = df['Sex'].map({'male': 0, 'female': 1})\n",
    "df['Age'] = df['Age'].fillna(df['Age'].mean())\n",
    "\n",
    "\n",
    "# Features and target\n",
    "X = df[['Pclass', 'Sex', 'Age', 'Fare']]\n",
    "y = df['Survived']\n",
    "\n",
    "# Train/test split\n",
    "X_train, X_test, y_train, y_test = train_test_split(X, y, test_size=0.2, random_state=42)\n",
    "\n",
    "# Train the model\n",
    "model = LogisticRegression()\n",
    "model.fit(X_train, y_train)\n",
    "\n",
    "# ---- User Input ----\n",
    "print(\"\\n--- Titanic Survival Predictor ---\")\n",
    "pclass = int(input(\"Enter Passenger Class (1 = 1st, 2 = 2nd, 3 = 3rd): \"))\n",
    "sex_input = input(\"Enter Sex (male/female): \").strip().lower()\n",
    "sex = 0 if sex_input == 'male' else 1\n",
    "age = float(input(\"Enter Age: \"))\n",
    "fare = float(input(\"Enter Fare Paid: \"))\n",
    "\n",
    "# Create input data and predict\n",
    "user_data = pd.DataFrame([[pclass, sex, age, fare]], columns=['Pclass', 'Sex', 'Age', 'Fare'])\n",
    "prediction = model.predict(user_data)\n",
    "\n",
    "# Show result\n",
    "if prediction[0] == 1:\n",
    "    print(\"The passenger would have SURVIVED!\")\n",
    "else:\n",
    "    print(\"The passenger would NOT have survived.\")\n"
   ]
  },
  {
   "cell_type": "code",
   "execution_count": null,
   "id": "d72bde69-e8dd-4f08-a6b6-8abe9dcdd6d1",
   "metadata": {},
   "outputs": [],
   "source": []
  }
 ],
 "metadata": {
  "kernelspec": {
   "display_name": "Python 3 (ipykernel)",
   "language": "python",
   "name": "python3"
  },
  "language_info": {
   "codemirror_mode": {
    "name": "ipython",
    "version": 3
   },
   "file_extension": ".py",
   "mimetype": "text/x-python",
   "name": "python",
   "nbconvert_exporter": "python",
   "pygments_lexer": "ipython3",
   "version": "3.12.7"
  }
 },
 "nbformat": 4,
 "nbformat_minor": 5
}
